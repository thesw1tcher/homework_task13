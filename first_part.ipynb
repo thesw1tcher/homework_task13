{
 "cells": [
  {
   "cell_type": "markdown",
   "metadata": {
    "id": "fCnh7txruDwL"
   },
   "source": [
    "# Поиск аномалий"
   ]
  },
  {
   "cell_type": "markdown",
   "metadata": {
    "id": "e6II8JMnuDwO"
   },
   "source": [
    "Методы обнаружения аномалий, как следует из названия, позволяют находить необычные объекты в выборке. Но что такое \"необычные\" и совпадает ли это определение у разных методов?"
   ]
  },
  {
   "cell_type": "markdown",
   "metadata": {
    "id": "TFjf40SeuDwO"
   },
   "source": [
    "Начнём с поиска аномалий в текстах: научимся отличать вопросы о программировании от текстов из 20newsgroups про религию."
   ]
  },
  {
   "cell_type": "markdown",
   "metadata": {
    "id": "YIwHXueZuDwO"
   },
   "source": [
    "Подготовьте данные: в обучающую выборку возьмите 20 тысяч текстов из датасета Stack Overflow, а тестовую выборку сформируйте из 10 тысяч текстов со Stack Overflow и 100 текстов из класса soc.religion.christian датасета 20newsgroups (очень пригодится функция `fetch_20newsgroups(categories=['soc.religion.christian'])`). Тексты про программирование будем считать обычными, а тексты про религию — аномальными."
   ]
  },
  {
   "cell_type": "code",
   "execution_count": 17,
   "metadata": {
    "scrolled": true
   },
   "outputs": [
    {
     "data": {
      "text/html": [
       "<div>\n",
       "<style scoped>\n",
       "    .dataframe tbody tr th:only-of-type {\n",
       "        vertical-align: middle;\n",
       "    }\n",
       "\n",
       "    .dataframe tbody tr th {\n",
       "        vertical-align: top;\n",
       "    }\n",
       "\n",
       "    .dataframe thead th {\n",
       "        text-align: right;\n",
       "    }\n",
       "</style>\n",
       "<table border=\"1\" class=\"dataframe\">\n",
       "  <thead>\n",
       "    <tr style=\"text-align: right;\">\n",
       "      <th></th>\n",
       "      <th>Body</th>\n",
       "    </tr>\n",
       "  </thead>\n",
       "  <tbody>\n",
       "    <tr>\n",
       "      <th>0</th>\n",
       "      <td>&lt;p&gt;I'm new to C# and I want to use a track-bar...</td>\n",
       "    </tr>\n",
       "    <tr>\n",
       "      <th>1</th>\n",
       "      <td>&lt;p&gt;I have an absolutely positioned &lt;code&gt;div&lt;/...</td>\n",
       "    </tr>\n",
       "    <tr>\n",
       "      <th>2</th>\n",
       "      <td>&lt;p&gt;An explicit cast to double isn't necessary....</td>\n",
       "    </tr>\n",
       "    <tr>\n",
       "      <th>3</th>\n",
       "      <td>&lt;p&gt;Are there any conversion tools for porting ...</td>\n",
       "    </tr>\n",
       "    <tr>\n",
       "      <th>4</th>\n",
       "      <td>&lt;p&gt;Given a &lt;code&gt;DateTime&lt;/code&gt; representing ...</td>\n",
       "    </tr>\n",
       "    <tr>\n",
       "      <th>...</th>\n",
       "      <td>...</td>\n",
       "    </tr>\n",
       "    <tr>\n",
       "      <th>29995</th>\n",
       "      <td>&lt;p&gt;But it's FUN! I mean it's more interesting ...</td>\n",
       "    </tr>\n",
       "    <tr>\n",
       "      <th>29996</th>\n",
       "      <td>&lt;p&gt;It depends on the number of images you are ...</td>\n",
       "    </tr>\n",
       "    <tr>\n",
       "      <th>29997</th>\n",
       "      <td>&lt;p&gt;I'm trying to find a simple way to change t...</td>\n",
       "    </tr>\n",
       "    <tr>\n",
       "      <th>29998</th>\n",
       "      <td>&lt;p&gt;&lt;strong&gt;&lt;em&gt;&lt;a href=\"http://dotnetnuke.mont...</td>\n",
       "    </tr>\n",
       "    <tr>\n",
       "      <th>29999</th>\n",
       "      <td>&lt;p&gt;&lt;a href=\"http://en.wikipedia.org/wiki/Casca...</td>\n",
       "    </tr>\n",
       "  </tbody>\n",
       "</table>\n",
       "<p>30000 rows × 1 columns</p>\n",
       "</div>"
      ],
      "text/plain": [
       "                                                    Body\n",
       "0      <p>I'm new to C# and I want to use a track-bar...\n",
       "1      <p>I have an absolutely positioned <code>div</...\n",
       "2      <p>An explicit cast to double isn't necessary....\n",
       "3      <p>Are there any conversion tools for porting ...\n",
       "4      <p>Given a <code>DateTime</code> representing ...\n",
       "...                                                  ...\n",
       "29995  <p>But it's FUN! I mean it's more interesting ...\n",
       "29996  <p>It depends on the number of images you are ...\n",
       "29997  <p>I'm trying to find a simple way to change t...\n",
       "29998  <p><strong><em><a href=\"http://dotnetnuke.mont...\n",
       "29999  <p><a href=\"http://en.wikipedia.org/wiki/Casca...\n",
       "\n",
       "[30000 rows x 1 columns]"
      ]
     },
     "execution_count": 17,
     "metadata": {},
     "output_type": "execute_result"
    }
   ],
   "source": [
    "import numpy as np\n",
    "import pandas as pd\n",
    "import requests\n",
    "from sklearn.feature_extraction.text import TfidfVectorizer\n",
    "from sklearn.ensemble import IsolationForest\n",
    "from sklearn.metrics import precision_score, recall_score\n",
    "from sklearn.datasets import fetch_20newsgroups\n",
    "from sklearn.model_selection import train_test_split\n",
    "s_texts = pd.read_csv(\"StackOverflow_posts.csv\")\n",
    "s_texts"
   ]
  },
  {
   "cell_type": "code",
   "execution_count": 18,
   "metadata": {
    "scrolled": true
   },
   "outputs": [
    {
     "data": {
      "text/html": [
       "<div>\n",
       "<style scoped>\n",
       "    .dataframe tbody tr th:only-of-type {\n",
       "        vertical-align: middle;\n",
       "    }\n",
       "\n",
       "    .dataframe tbody tr th {\n",
       "        vertical-align: top;\n",
       "    }\n",
       "\n",
       "    .dataframe thead th {\n",
       "        text-align: right;\n",
       "    }\n",
       "</style>\n",
       "<table border=\"1\" class=\"dataframe\">\n",
       "  <thead>\n",
       "    <tr style=\"text-align: right;\">\n",
       "      <th></th>\n",
       "      <th>Body</th>\n",
       "      <th>flag</th>\n",
       "    </tr>\n",
       "  </thead>\n",
       "  <tbody>\n",
       "    <tr>\n",
       "      <th>0</th>\n",
       "      <td>&lt;p&gt;I'm new to C# and I want to use a track-bar...</td>\n",
       "      <td>1</td>\n",
       "    </tr>\n",
       "    <tr>\n",
       "      <th>1</th>\n",
       "      <td>&lt;p&gt;I have an absolutely positioned &lt;code&gt;div&lt;/...</td>\n",
       "      <td>1</td>\n",
       "    </tr>\n",
       "    <tr>\n",
       "      <th>2</th>\n",
       "      <td>&lt;p&gt;An explicit cast to double isn't necessary....</td>\n",
       "      <td>1</td>\n",
       "    </tr>\n",
       "    <tr>\n",
       "      <th>3</th>\n",
       "      <td>&lt;p&gt;Are there any conversion tools for porting ...</td>\n",
       "      <td>1</td>\n",
       "    </tr>\n",
       "    <tr>\n",
       "      <th>4</th>\n",
       "      <td>&lt;p&gt;Given a &lt;code&gt;DateTime&lt;/code&gt; representing ...</td>\n",
       "      <td>1</td>\n",
       "    </tr>\n",
       "    <tr>\n",
       "      <th>...</th>\n",
       "      <td>...</td>\n",
       "      <td>...</td>\n",
       "    </tr>\n",
       "    <tr>\n",
       "      <th>29995</th>\n",
       "      <td>&lt;p&gt;But it's FUN! I mean it's more interesting ...</td>\n",
       "      <td>1</td>\n",
       "    </tr>\n",
       "    <tr>\n",
       "      <th>29996</th>\n",
       "      <td>&lt;p&gt;It depends on the number of images you are ...</td>\n",
       "      <td>1</td>\n",
       "    </tr>\n",
       "    <tr>\n",
       "      <th>29997</th>\n",
       "      <td>&lt;p&gt;I'm trying to find a simple way to change t...</td>\n",
       "      <td>1</td>\n",
       "    </tr>\n",
       "    <tr>\n",
       "      <th>29998</th>\n",
       "      <td>&lt;p&gt;&lt;strong&gt;&lt;em&gt;&lt;a href=\"http://dotnetnuke.mont...</td>\n",
       "      <td>1</td>\n",
       "    </tr>\n",
       "    <tr>\n",
       "      <th>29999</th>\n",
       "      <td>&lt;p&gt;&lt;a href=\"http://en.wikipedia.org/wiki/Casca...</td>\n",
       "      <td>1</td>\n",
       "    </tr>\n",
       "  </tbody>\n",
       "</table>\n",
       "<p>30000 rows × 2 columns</p>\n",
       "</div>"
      ],
      "text/plain": [
       "                                                    Body  flag\n",
       "0      <p>I'm new to C# and I want to use a track-bar...     1\n",
       "1      <p>I have an absolutely positioned <code>div</...     1\n",
       "2      <p>An explicit cast to double isn't necessary....     1\n",
       "3      <p>Are there any conversion tools for porting ...     1\n",
       "4      <p>Given a <code>DateTime</code> representing ...     1\n",
       "...                                                  ...   ...\n",
       "29995  <p>But it's FUN! I mean it's more interesting ...     1\n",
       "29996  <p>It depends on the number of images you are ...     1\n",
       "29997  <p>I'm trying to find a simple way to change t...     1\n",
       "29998  <p><strong><em><a href=\"http://dotnetnuke.mont...     1\n",
       "29999  <p><a href=\"http://en.wikipedia.org/wiki/Casca...     1\n",
       "\n",
       "[30000 rows x 2 columns]"
      ]
     },
     "execution_count": 18,
     "metadata": {},
     "output_type": "execute_result"
    }
   ],
   "source": [
    "s_texts['flag'] = [1 for i in range(30000)]\n",
    "s_texts"
   ]
  },
  {
   "cell_type": "code",
   "execution_count": 19,
   "metadata": {
    "scrolled": true
   },
   "outputs": [
    {
     "data": {
      "text/html": [
       "<div>\n",
       "<style scoped>\n",
       "    .dataframe tbody tr th:only-of-type {\n",
       "        vertical-align: middle;\n",
       "    }\n",
       "\n",
       "    .dataframe tbody tr th {\n",
       "        vertical-align: top;\n",
       "    }\n",
       "\n",
       "    .dataframe thead th {\n",
       "        text-align: right;\n",
       "    }\n",
       "</style>\n",
       "<table border=\"1\" class=\"dataframe\">\n",
       "  <thead>\n",
       "    <tr style=\"text-align: right;\">\n",
       "      <th></th>\n",
       "      <th>Body</th>\n",
       "      <th>flag</th>\n",
       "    </tr>\n",
       "  </thead>\n",
       "  <tbody>\n",
       "    <tr>\n",
       "      <th>0</th>\n",
       "      <td>I wrote in response to dlecoint@garnet.acns.fs...</td>\n",
       "      <td>-1</td>\n",
       "    </tr>\n",
       "    <tr>\n",
       "      <th>1</th>\n",
       "      <td>A \"new Christian\" wrote that he was new to the...</td>\n",
       "      <td>-1</td>\n",
       "    </tr>\n",
       "    <tr>\n",
       "      <th>2</th>\n",
       "      <td>: &gt; \\t   I'm a commited Christian that is batt...</td>\n",
       "      <td>-1</td>\n",
       "    </tr>\n",
       "    <tr>\n",
       "      <th>3</th>\n",
       "      <td>My brother has been alienated from my parents ...</td>\n",
       "      <td>-1</td>\n",
       "    </tr>\n",
       "    <tr>\n",
       "      <th>4</th>\n",
       "      <td>&gt; [A very nice article on the DSS, which I ...</td>\n",
       "      <td>-1</td>\n",
       "    </tr>\n",
       "    <tr>\n",
       "      <th>...</th>\n",
       "      <td>...</td>\n",
       "      <td>...</td>\n",
       "    </tr>\n",
       "    <tr>\n",
       "      <th>95</th>\n",
       "      <td>I'd like to share my thoughts on this topic of...</td>\n",
       "      <td>-1</td>\n",
       "    </tr>\n",
       "    <tr>\n",
       "      <th>96</th>\n",
       "      <td>Sorry for bothering with a request almost irre...</td>\n",
       "      <td>-1</td>\n",
       "    </tr>\n",
       "    <tr>\n",
       "      <th>97</th>\n",
       "      <td>\\nmy $.02 - Yes and No.  I do not believe the ...</td>\n",
       "      <td>-1</td>\n",
       "    </tr>\n",
       "    <tr>\n",
       "      <th>98</th>\n",
       "      <td>I just about closed this once before.  I'm now...</td>\n",
       "      <td>-1</td>\n",
       "    </tr>\n",
       "    <tr>\n",
       "      <th>99</th>\n",
       "      <td>\\n\\t.\\n\\t.\\n\\t.\\n\\nWhy do you assume that Jesu...</td>\n",
       "      <td>-1</td>\n",
       "    </tr>\n",
       "  </tbody>\n",
       "</table>\n",
       "<p>100 rows × 2 columns</p>\n",
       "</div>"
      ],
      "text/plain": [
       "                                                 Body  flag\n",
       "0   I wrote in response to dlecoint@garnet.acns.fs...    -1\n",
       "1   A \"new Christian\" wrote that he was new to the...    -1\n",
       "2   : > \\t   I'm a commited Christian that is batt...    -1\n",
       "3   My brother has been alienated from my parents ...    -1\n",
       "4      > [A very nice article on the DSS, which I ...    -1\n",
       "..                                                ...   ...\n",
       "95  I'd like to share my thoughts on this topic of...    -1\n",
       "96  Sorry for bothering with a request almost irre...    -1\n",
       "97  \\nmy $.02 - Yes and No.  I do not believe the ...    -1\n",
       "98  I just about closed this once before.  I'm now...    -1\n",
       "99  \\n\\t.\\n\\t.\\n\\t.\\n\\nWhy do you assume that Jesu...    -1\n",
       "\n",
       "[100 rows x 2 columns]"
      ]
     },
     "execution_count": 19,
     "metadata": {},
     "output_type": "execute_result"
    }
   ],
   "source": [
    "newsgroups = fetch_20newsgroups(categories=['soc.religion.christian'], remove=(\"headers\", \"footers\", \"quotes\"))\n",
    "r_texts = newsgroups.data[:100]\n",
    "r_texts = pd.DataFrame.from_dict({\"Body\": r_texts, \"flag\":[-1 for i in range(len(r_texts))]})\n",
    "r_texts"
   ]
  },
  {
   "cell_type": "code",
   "execution_count": 20,
   "metadata": {},
   "outputs": [],
   "source": [
    "s_texts = pd.concat([s_texts, r_texts], ignore_index=True)"
   ]
  },
  {
   "cell_type": "code",
   "execution_count": 21,
   "metadata": {
    "scrolled": true
   },
   "outputs": [
    {
     "data": {
      "text/html": [
       "<div>\n",
       "<style scoped>\n",
       "    .dataframe tbody tr th:only-of-type {\n",
       "        vertical-align: middle;\n",
       "    }\n",
       "\n",
       "    .dataframe tbody tr th {\n",
       "        vertical-align: top;\n",
       "    }\n",
       "\n",
       "    .dataframe thead th {\n",
       "        text-align: right;\n",
       "    }\n",
       "</style>\n",
       "<table border=\"1\" class=\"dataframe\">\n",
       "  <thead>\n",
       "    <tr style=\"text-align: right;\">\n",
       "      <th></th>\n",
       "      <th>Body</th>\n",
       "      <th>flag</th>\n",
       "    </tr>\n",
       "  </thead>\n",
       "  <tbody>\n",
       "    <tr>\n",
       "      <th>0</th>\n",
       "      <td>&lt;p&gt;I'm new to C# and I want to use a track-bar...</td>\n",
       "      <td>1</td>\n",
       "    </tr>\n",
       "    <tr>\n",
       "      <th>1</th>\n",
       "      <td>&lt;p&gt;I have an absolutely positioned &lt;code&gt;div&lt;/...</td>\n",
       "      <td>1</td>\n",
       "    </tr>\n",
       "    <tr>\n",
       "      <th>2</th>\n",
       "      <td>&lt;p&gt;An explicit cast to double isn't necessary....</td>\n",
       "      <td>1</td>\n",
       "    </tr>\n",
       "    <tr>\n",
       "      <th>3</th>\n",
       "      <td>&lt;p&gt;Are there any conversion tools for porting ...</td>\n",
       "      <td>1</td>\n",
       "    </tr>\n",
       "    <tr>\n",
       "      <th>4</th>\n",
       "      <td>&lt;p&gt;Given a &lt;code&gt;DateTime&lt;/code&gt; representing ...</td>\n",
       "      <td>1</td>\n",
       "    </tr>\n",
       "    <tr>\n",
       "      <th>...</th>\n",
       "      <td>...</td>\n",
       "      <td>...</td>\n",
       "    </tr>\n",
       "    <tr>\n",
       "      <th>30095</th>\n",
       "      <td>I'd like to share my thoughts on this topic of...</td>\n",
       "      <td>-1</td>\n",
       "    </tr>\n",
       "    <tr>\n",
       "      <th>30096</th>\n",
       "      <td>Sorry for bothering with a request almost irre...</td>\n",
       "      <td>-1</td>\n",
       "    </tr>\n",
       "    <tr>\n",
       "      <th>30097</th>\n",
       "      <td>\\nmy $.02 - Yes and No.  I do not believe the ...</td>\n",
       "      <td>-1</td>\n",
       "    </tr>\n",
       "    <tr>\n",
       "      <th>30098</th>\n",
       "      <td>I just about closed this once before.  I'm now...</td>\n",
       "      <td>-1</td>\n",
       "    </tr>\n",
       "    <tr>\n",
       "      <th>30099</th>\n",
       "      <td>\\n\\t.\\n\\t.\\n\\t.\\n\\nWhy do you assume that Jesu...</td>\n",
       "      <td>-1</td>\n",
       "    </tr>\n",
       "  </tbody>\n",
       "</table>\n",
       "<p>30100 rows × 2 columns</p>\n",
       "</div>"
      ],
      "text/plain": [
       "                                                    Body  flag\n",
       "0      <p>I'm new to C# and I want to use a track-bar...     1\n",
       "1      <p>I have an absolutely positioned <code>div</...     1\n",
       "2      <p>An explicit cast to double isn't necessary....     1\n",
       "3      <p>Are there any conversion tools for porting ...     1\n",
       "4      <p>Given a <code>DateTime</code> representing ...     1\n",
       "...                                                  ...   ...\n",
       "30095  I'd like to share my thoughts on this topic of...    -1\n",
       "30096  Sorry for bothering with a request almost irre...    -1\n",
       "30097  \\nmy $.02 - Yes and No.  I do not believe the ...    -1\n",
       "30098  I just about closed this once before.  I'm now...    -1\n",
       "30099  \\n\\t.\\n\\t.\\n\\t.\\n\\nWhy do you assume that Jesu...    -1\n",
       "\n",
       "[30100 rows x 2 columns]"
      ]
     },
     "execution_count": 21,
     "metadata": {},
     "output_type": "execute_result"
    }
   ],
   "source": [
    "s_texts"
   ]
  },
  {
   "cell_type": "code",
   "execution_count": 22,
   "metadata": {},
   "outputs": [],
   "source": [
    "X_train, X_test, y_train, y_test = train_test_split(s_texts.drop('flag', axis=1), s_texts.flag, test_size=10100, random_state=42, shuffle=False)"
   ]
  },
  {
   "cell_type": "code",
   "execution_count": 23,
   "metadata": {},
   "outputs": [
    {
     "data": {
      "text/plain": [
       "20000    1\n",
       "20001    1\n",
       "20002    1\n",
       "20003    1\n",
       "20004    1\n",
       "        ..\n",
       "30095   -1\n",
       "30096   -1\n",
       "30097   -1\n",
       "30098   -1\n",
       "30099   -1\n",
       "Name: flag, Length: 10100, dtype: int64"
      ]
     },
     "execution_count": 23,
     "metadata": {},
     "output_type": "execute_result"
    }
   ],
   "source": [
    "y_test"
   ]
  },
  {
   "cell_type": "code",
   "execution_count": 24,
   "metadata": {},
   "outputs": [],
   "source": [
    "X_train = X_train.Body.to_list()\n",
    "y_train = y_train.to_list()\n",
    "X_test = X_test.Body.to_list()\n",
    "y_test = y_test.to_list()"
   ]
  },
  {
   "cell_type": "markdown",
   "metadata": {
    "id": "R0cVmrBDuDwP"
   },
   "source": [
    "**(1 балл)**\n",
    "\n",
    "Проверьте качество выделения аномалий (precision и recall на тестовой выборке, если считать аномалии положительным классов, а обычные тексты — отрицательным) для IsolationForest. В качестве признаков используйте TF-IDF, где словарь и IDF строятся по обучающей выборке. Не забудьте подобрать гиперпараметры."
   ]
  },
  {
   "cell_type": "code",
   "execution_count": 25,
   "metadata": {},
   "outputs": [],
   "source": [
    "tfidf_vectorizer = TfidfVectorizer(max_features=10000)\n",
    "X_train = tfidf_vectorizer.fit_transform(X_train)\n",
    "X_test = tfidf_vectorizer.transform(X_test)"
   ]
  },
  {
   "cell_type": "code",
   "execution_count": 26,
   "metadata": {
    "id": "KJgW4zVZuDwP",
    "scrolled": true
   },
   "outputs": [
    {
     "name": "stdout",
     "output_type": "stream",
     "text": [
      "Precision: 0.9901\n",
      "Recall: 0.9901\n"
     ]
    }
   ],
   "source": [
    "from sklearn.metrics import make_scorer, f1_score\n",
    "from sklearn import model_selection\n",
    "\n",
    "isolation_forest = IsolationForest(random_state=42)\n",
    "param_grid = {'n_estimators': [50, 100, 150],\n",
    "              'max_samples': ['auto', 0.1, 0.6, 0.8], \n",
    "              'contamination': [0.005], \n",
    "              'max_features': [10, 100, 1000, 5000, 10000], \n",
    "              'n_jobs' : [-1],\n",
    "              'bootstrap': [True, False]}\n",
    "\n",
    "#f1sc = make_scorer(f1_score(average='micro'))\n",
    "grid_dt_estimator = model_selection.GridSearchCV(isolation_forest, \n",
    "                                                 param_grid,\n",
    "                                                 scoring='f1', \n",
    "                                                 refit=True,\n",
    "                                                 cv=4, \n",
    "                                                 return_train_score=True, verbose=100)\n",
    "#grid_dt_estimator.fit(X_train, y_train)\n",
    "isolation_forest.fit(X_train)\n",
    "\n",
    "test_predictions = isolation_forest.predict(X_test)\n",
    "\n",
    "precision = precision_score(y_test, test_predictions, average='micro')\n",
    "recall = recall_score(y_test, test_predictions, average='micro')\n",
    "print(f\"Precision: {precision:.4f}\")\n",
    "print(f\"Recall: {recall:.4f}\")"
   ]
  },
  {
   "cell_type": "markdown",
   "metadata": {
    "id": "2EEXad6euDwQ"
   },
   "source": [
    "**(5 баллов)**\n",
    "\n",
    "Скорее всего, качество оказалось не на высоте. Разберитесь, в чём дело:\n",
    "* посмотрите на тексты, которые выделяются как аномальные, а также на слова, соответствующие их ненулевым признакам\n",
    "* изучите признаки аномальных текстов\n",
    "* посмотрите на тексты из обучающей выборки, ближайшие к аномальным; действительно ли они похожи по признакам?\n",
    "\n",
    "Сделайте выводы и придумайте, как избавиться от этих проблем. Предложите варианты двух типов: (1) в рамках этих же признаков (но которые, возможно, будут считаться по другим наборам данных) и методов и (2) без ограничений на изменения. Реализуйте эти варианты и проверьте их качество."
   ]
  },
  {
   "cell_type": "code",
   "execution_count": 27,
   "metadata": {
    "id": "xYvrEzFGuDwR",
    "scrolled": true
   },
   "outputs": [
    {
     "data": {
      "text/plain": [
       "array(['00', '000', '0000', ..., 'zoo', 'zoom', 'zope'], dtype=object)"
      ]
     },
     "execution_count": 27,
     "metadata": {},
     "output_type": "execute_result"
    }
   ],
   "source": [
    "feature_names = np.array(tfidf_vectorizer.get_feature_names_out())\n",
    "feature_names"
   ]
  },
  {
   "cell_type": "code",
   "execution_count": 28,
   "metadata": {},
   "outputs": [],
   "source": [
    "import numpy as np\n",
    "\n",
    "anomalies = [i for i, pred in enumerate(test_predictions) if pred == -1]\n",
    "anomalous_texts = [X_test[i] for i in anomalies]\n",
    "anomalous_indices = anomalies\n",
    "\n",
    "\n",
    "anomalous_features = {}\n",
    "top_by_freq = {}\n",
    "top_by_ws = {}\n",
    "for idx in anomalous_indices:\n",
    "    feature_vector = X_test[idx].toarray().flatten()\n",
    "    \n",
    "    non_zero_indices = np.where(feature_vector > 0)[0]\n",
    "    non_zero_words = [(feature_names[i], feature_vector[i]) for i in non_zero_indices]\n",
    "    anomalous_features[idx] = non_zero_words\n",
    "    for word, score in anomalous_features[idx]:\n",
    "        if word not in top_by_freq:\n",
    "            top_by_freq[word] = 1\n",
    "            top_by_ws[word] = score\n",
    "        else:\n",
    "            top_by_freq[word] += 1\n",
    "            top_by_ws[word] = max(score, top_by_ws[word])\n",
    "\n",
    "top_by_freq = list(top_by_freq.items())\n",
    "top_by_ws = list(top_by_ws.items())\n",
    "top_by_freq.sort(key=lambda x : -x[1])\n",
    "top_by_freq_words = list(map(lambda x : x[0], top_by_freq))\n",
    "top_by_freq_ks = list(map(lambda x : x[1], top_by_freq))\n",
    "top_by_ws.sort(key=lambda x : -x[1])\n",
    "top_by_ws_words = list(map(lambda x : x[0], top_by_ws))\n",
    "top_by_ws_ks = list(map(lambda x : x[1], top_by_ws))"
   ]
  },
  {
   "cell_type": "code",
   "execution_count": 30,
   "metadata": {
    "id": "-q8DQDG7uDwS"
   },
   "outputs": [
    {
     "data": {
      "text/plain": [
       "(array([], dtype=int64),)"
      ]
     },
     "execution_count": 30,
     "metadata": {},
     "output_type": "execute_result"
    }
   ],
   "source": [
    "np.where(test_predictions==-1)"
   ]
  },
  {
   "cell_type": "code",
   "execution_count": 31,
   "metadata": {},
   "outputs": [
    {
     "data": {
      "text/html": [
       "<div>\n",
       "<style scoped>\n",
       "    .dataframe tbody tr th:only-of-type {\n",
       "        vertical-align: middle;\n",
       "    }\n",
       "\n",
       "    .dataframe tbody tr th {\n",
       "        vertical-align: top;\n",
       "    }\n",
       "\n",
       "    .dataframe thead th {\n",
       "        text-align: right;\n",
       "    }\n",
       "</style>\n",
       "<table border=\"1\" class=\"dataframe\">\n",
       "  <thead>\n",
       "    <tr style=\"text-align: right;\">\n",
       "      <th></th>\n",
       "      <th>word</th>\n",
       "      <th>score</th>\n",
       "    </tr>\n",
       "  </thead>\n",
       "  <tbody>\n",
       "  </tbody>\n",
       "</table>\n",
       "</div>"
      ],
      "text/plain": [
       "Empty DataFrame\n",
       "Columns: [word, score]\n",
       "Index: []"
      ]
     },
     "execution_count": 31,
     "metadata": {},
     "output_type": "execute_result"
    }
   ],
   "source": [
    "top_by_freq = pd.DataFrame.from_dict({'word' : top_by_freq_words, 'score' : top_by_freq_ks})\n",
    "top_by_freq"
   ]
  },
  {
   "cell_type": "code",
   "execution_count": 32,
   "metadata": {
    "scrolled": true
   },
   "outputs": [
    {
     "data": {
      "text/html": [
       "<div>\n",
       "<style scoped>\n",
       "    .dataframe tbody tr th:only-of-type {\n",
       "        vertical-align: middle;\n",
       "    }\n",
       "\n",
       "    .dataframe tbody tr th {\n",
       "        vertical-align: top;\n",
       "    }\n",
       "\n",
       "    .dataframe thead th {\n",
       "        text-align: right;\n",
       "    }\n",
       "</style>\n",
       "<table border=\"1\" class=\"dataframe\">\n",
       "  <thead>\n",
       "    <tr style=\"text-align: right;\">\n",
       "      <th></th>\n",
       "      <th>word</th>\n",
       "      <th>score</th>\n",
       "    </tr>\n",
       "  </thead>\n",
       "  <tbody>\n",
       "  </tbody>\n",
       "</table>\n",
       "</div>"
      ],
      "text/plain": [
       "Empty DataFrame\n",
       "Columns: [word, score]\n",
       "Index: []"
      ]
     },
     "execution_count": 32,
     "metadata": {},
     "output_type": "execute_result"
    }
   ],
   "source": [
    "top_by_ws = pd.DataFrame.from_dict({'word' : top_by_ws_words, 'score' : top_by_ws_ks})\n",
    "top_by_ws"
   ]
  }
 ],
 "metadata": {
  "colab": {
   "provenance": []
  },
  "kernelspec": {
   "display_name": "Python 3 (ipykernel)",
   "language": "python",
   "name": "python3"
  },
  "language_info": {
   "codemirror_mode": {
    "name": "ipython",
    "version": 3
   },
   "file_extension": ".py",
   "mimetype": "text/x-python",
   "name": "python",
   "nbconvert_exporter": "python",
   "pygments_lexer": "ipython3",
   "version": "3.9.12"
  }
 },
 "nbformat": 4,
 "nbformat_minor": 1
}
